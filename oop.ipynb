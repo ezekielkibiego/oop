{
 "cells": [
  {
   "cell_type": "code",
   "execution_count": 1,
   "metadata": {},
   "outputs": [
    {
     "name": "stdout",
     "output_type": "stream",
     "text": [
      "Hello OOP\n"
     ]
    }
   ],
   "source": [
    "print(\"Hello OOP\")"
   ]
  },
  {
   "cell_type": "markdown",
   "metadata": {},
   "source": [
    "- Attributes e.g \n",
    "Person:\n",
    "       - age\n",
    "       - name\n",
    "       - gender\n",
    "\n",
    "Car: \n",
    "      - model\n",
    "      - year \n",
    "      - color\n",
    "\n",
    "\n",
    "- Methods e.g \n",
    "   - talk\n",
    "   - walk\n",
    "   - sing\n",
    "\n",
    "\n",
    "- Initialization  __init__"
   ]
  },
  {
   "cell_type": "code",
   "execution_count": 4,
   "metadata": {},
   "outputs": [
    {
     "name": "stdout",
     "output_type": "stream",
     "text": [
      "2022 Toyota Corolla black\n",
      "2024 Ford Raptor black\n"
     ]
    }
   ],
   "source": [
    "class Car:\n",
    "    # Contructor to initialize the object\n",
    "    def __init__(self, make, model, year, color):\n",
    "        self.make = make\n",
    "        self.model = model\n",
    "        self.year = year\n",
    "        self.color = color\n",
    "       \n",
    "       # Method to display car info \n",
    "    def display_car_info(self):\n",
    "        print(f\"{self.year} {self.make} {self.model} {self.color}\")\n",
    "        \n",
    "# Create an object of the Car class\n",
    "\n",
    "my_car = Car(\"Toyota\", \"Corolla\", 2022, \"black\")\n",
    "my_car1 = Car(\"Ford\", \"Raptor\", 2024, \"black\")\n",
    "\n",
    "# print(my_car.make)\n",
    "# print(my_car.model)\n",
    "# print(my_car.year)\n",
    "# print(my_car.color)\n",
    "\n",
    "# Call the object methods\n",
    "my_car.display_car_info()\n",
    "my_car1.display_car_info()"
   ]
  },
  {
   "cell_type": "code",
   "execution_count": 6,
   "metadata": {},
   "outputs": [
    {
     "name": "stdout",
     "output_type": "stream",
     "text": [
      "Hi, my name is John and I am 25 years old.\n",
      "Hi, my name is Bob and I am 20 years old.\n"
     ]
    }
   ],
   "source": [
    "class Person:\n",
    "    def __init__(self, name, age):\n",
    "        self.name = name\n",
    "        self.age = age\n",
    "        \n",
    "    def greeting(self):\n",
    "        print(f\"Hi, my name is {self.name} and I am {self.age} years old.\")\n",
    "        \n",
    "person1 = Person('John', 25)\n",
    "person2 = Person('Bob', 20)\n",
    "person1.greeting()\n",
    "person2.greeting()"
   ]
  },
  {
   "cell_type": "markdown",
   "metadata": {},
   "source": [
    "Inheritance"
   ]
  },
  {
   "cell_type": "code",
   "execution_count": 9,
   "metadata": {},
   "outputs": [
    {
     "name": "stdout",
     "output_type": "stream",
     "text": [
      "Sparrow is flying.\n",
      "Sparrow is chirping.\n",
      "Eagle is flying.\n",
      "Eagle is soaring high.\n"
     ]
    }
   ],
   "source": [
    "# Parent class\n",
    "class Bird:\n",
    "    def __init__(self, name):\n",
    "        self.name = name\n",
    "        \n",
    "    def fly(self):\n",
    "        print(f\"{self.name} is flying.\")\n",
    "        \n",
    "        \n",
    "# Child class\n",
    "class Sparrow(Bird):\n",
    "    def chirp(self):\n",
    "        print(f\"{self.name} is chirping.\")\n",
    "\n",
    "class Eagle(Bird):\n",
    "    def soar(self):\n",
    "        print(f\"{self.name} is soaring high.\")\n",
    "        \n",
    "        \n",
    "sparrow = Sparrow(\"Sparrow\")\n",
    "eagle = Eagle(\"Eagle\")\n",
    "\n",
    "sparrow.fly()\n",
    "sparrow.chirp()\n",
    "\n",
    "eagle.fly()\n",
    "eagle.soar()"
   ]
  },
  {
   "cell_type": "markdown",
   "metadata": {},
   "source": [
    "Encapsulation"
   ]
  },
  {
   "cell_type": "code",
   "execution_count": 11,
   "metadata": {},
   "outputs": [
    {
     "name": "stdout",
     "output_type": "stream",
     "text": [
      "6000\n"
     ]
    }
   ],
   "source": [
    "class Bankaccount:\n",
    "    def __init__(self, balance):\n",
    "        self.__balance = balance # Private attribute\n",
    "        \n",
    "    def deposit(self, amount):\n",
    "        if amount > 0:\n",
    "            self.__balance += amount\n",
    "            \n",
    "    def withdraw(self, amount):\n",
    "        if 0 < amount <= self.__balance:\n",
    "            self.__balance -= amount\n",
    "            \n",
    "    def get_balance(self):\n",
    "        return self.__balance\n",
    "        \n",
    "\n",
    "account = Bankaccount(5000)\n",
    "account.deposit(3000)\n",
    "account.withdraw(2000)\n",
    "print(account.get_balance())"
   ]
  }
 ],
 "metadata": {
  "kernelspec": {
   "display_name": "Python 3",
   "language": "python",
   "name": "python3"
  },
  "language_info": {
   "codemirror_mode": {
    "name": "ipython",
    "version": 3
   },
   "file_extension": ".py",
   "mimetype": "text/x-python",
   "name": "python",
   "nbconvert_exporter": "python",
   "pygments_lexer": "ipython3",
   "version": "3.12.3"
  }
 },
 "nbformat": 4,
 "nbformat_minor": 2
}
